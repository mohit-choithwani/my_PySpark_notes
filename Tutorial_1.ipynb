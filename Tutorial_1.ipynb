{
 "cells": [
  {
   "cell_type": "markdown",
   "metadata": {
    "application/vnd.databricks.v1+cell": {
     "cellMetadata": {
      "byteLimit": 2048000,
      "rowLimit": 10000
     },
     "inputWidgets": {},
     "nuid": "5aa0cc5b-25e6-428d-8d78-728236ba60a8",
     "showTitle": false,
     "tableResultSettingsMap": {},
     "title": ""
    }
   },
   "source": [
    "File path : /FileStore/tables/Beach_Weather_Stations___Automated_Sensors.csv"
   ]
  },
  {
   "cell_type": "code",
   "execution_count": 0,
   "metadata": {
    "application/vnd.databricks.v1+cell": {
     "cellMetadata": {
      "byteLimit": 2048000,
      "rowLimit": 10000
     },
     "inputWidgets": {},
     "nuid": "f822af86-0ff6-4763-891b-2df9fa876bf5",
     "showTitle": false,
     "tableResultSettingsMap": {},
     "title": ""
    }
   },
   "outputs": [],
   "source": [
    "dbutils.fs.ls('/FileStore/tables/')"
   ]
  },
  {
   "cell_type": "markdown",
   "metadata": {
    "application/vnd.databricks.v1+cell": {
     "cellMetadata": {
      "byteLimit": 2048000,
      "rowLimit": 10000
     },
     "inputWidgets": {},
     "nuid": "427d0eb0-cc6c-4fd3-a465-27ec1586c45c",
     "showTitle": false,
     "tableResultSettingsMap": {},
     "title": ""
    }
   },
   "source": [
    "### Data Reading"
   ]
  },
  {
   "cell_type": "code",
   "execution_count": 0,
   "metadata": {
    "application/vnd.databricks.v1+cell": {
     "cellMetadata": {
      "byteLimit": 2048000,
      "rowLimit": 10000
     },
     "inputWidgets": {},
     "nuid": "b8a69bed-c53a-465c-a9e1-65f9be9c20e9",
     "showTitle": false,
     "tableResultSettingsMap": {},
     "title": ""
    }
   },
   "outputs": [],
   "source": [
    "data = spark.read.format('csv').option('inferSchema', True).option('header', True).load('/FileStore/tables/Beach_Weather_Stations___Automated_Sensors.csv')"
   ]
  },
  {
   "cell_type": "code",
   "execution_count": 0,
   "metadata": {
    "application/vnd.databricks.v1+cell": {
     "cellMetadata": {
      "byteLimit": 2048000,
      "rowLimit": 10000
     },
     "inputWidgets": {},
     "nuid": "07086c9a-f5d0-4e85-b11d-f0f4315d16b1",
     "showTitle": false,
     "tableResultSettingsMap": {},
     "title": ""
    }
   },
   "outputs": [],
   "source": [
    "data.display()"
   ]
  },
  {
   "cell_type": "markdown",
   "metadata": {
    "application/vnd.databricks.v1+cell": {
     "cellMetadata": {},
     "inputWidgets": {},
     "nuid": "613b0d61-5a7c-4087-8796-7e3f343a305e",
     "showTitle": false,
     "tableResultSettingsMap": {},
     "title": ""
    }
   },
   "source": [
    "### Schema - DDL and StructType\n",
    "At the time of data reading, we can define our own schema using .schema(\"ur_custom_schema\")"
   ]
  },
  {
   "cell_type": "code",
   "execution_count": 0,
   "metadata": {
    "application/vnd.databricks.v1+cell": {
     "cellMetadata": {
      "byteLimit": 2048000,
      "rowLimit": 10000
     },
     "inputWidgets": {},
     "nuid": "1363ccf2-5e53-46fe-9790-5fb4a78973c6",
     "showTitle": false,
     "tableResultSettingsMap": {},
     "title": ""
    }
   },
   "outputs": [],
   "source": [
    "data.printSchema()"
   ]
  },
  {
   "cell_type": "markdown",
   "metadata": {
    "application/vnd.databricks.v1+cell": {
     "cellMetadata": {},
     "inputWidgets": {},
     "nuid": "7cc39874-b01c-4e8c-93fa-9bda48e91207",
     "showTitle": false,
     "tableResultSettingsMap": {},
     "title": ""
    }
   },
   "source": [
    "## Data Transformations"
   ]
  },
  {
   "cell_type": "markdown",
   "metadata": {
    "application/vnd.databricks.v1+cell": {
     "cellMetadata": {},
     "inputWidgets": {},
     "nuid": "1d7d2292-e87c-47ea-ab8c-8dee9905d1e1",
     "showTitle": false,
     "tableResultSettingsMap": {},
     "title": ""
    }
   },
   "source": [
    "#### 1. SELECT Command"
   ]
  },
  {
   "cell_type": "code",
   "execution_count": 0,
   "metadata": {
    "application/vnd.databricks.v1+cell": {
     "cellMetadata": {
      "byteLimit": 2048000,
      "rowLimit": 10000
     },
     "inputWidgets": {},
     "nuid": "ad55a6ab-b55e-42e5-8286-0fe98f0c08ae",
     "showTitle": false,
     "tableResultSettingsMap": {},
     "title": ""
    }
   },
   "outputs": [],
   "source": [
    "# Directly with the columns name\n",
    "# data.select('Station Name', 'Humidity').display()"
   ]
  },
  {
   "cell_type": "code",
   "execution_count": 0,
   "metadata": {
    "application/vnd.databricks.v1+cell": {
     "cellMetadata": {
      "byteLimit": 2048000,
      "rowLimit": 10000
     },
     "inputWidgets": {},
     "nuid": "513d2050-f127-4f49-8be6-8ac879d1f566",
     "showTitle": false,
     "tableResultSettingsMap": {},
     "title": ""
    }
   },
   "outputs": [],
   "source": [
    "from pyspark.sql.functions import *"
   ]
  },
  {
   "cell_type": "code",
   "execution_count": 0,
   "metadata": {
    "application/vnd.databricks.v1+cell": {
     "cellMetadata": {},
     "inputWidgets": {},
     "nuid": "37f432b8-8d85-46ba-803e-03f98ad9aee4",
     "showTitle": false,
     "tableResultSettingsMap": {},
     "title": ""
    }
   },
   "outputs": [],
   "source": [
    "# Using COL method (works with the aggregating functions)\n",
    "data.select(col('Station Name', 'Humidity')).display()"
   ]
  },
  {
   "cell_type": "markdown",
   "metadata": {
    "application/vnd.databricks.v1+cell": {
     "cellMetadata": {},
     "inputWidgets": {},
     "nuid": "8e498f2b-65fb-4e01-8f6d-a50b11410687",
     "showTitle": false,
     "tableResultSettingsMap": {},
     "title": ""
    }
   },
   "source": [
    "#### 2. Alias\n",
    "This methods only works with col object"
   ]
  },
  {
   "cell_type": "code",
   "execution_count": 0,
   "metadata": {
    "application/vnd.databricks.v1+cell": {
     "cellMetadata": {
      "byteLimit": 2048000,
      "rowLimit": 10000
     },
     "inputWidgets": {},
     "nuid": "9844499d-5c47-4a56-ba7f-c63508394886",
     "showTitle": false,
     "tableResultSettingsMap": {},
     "title": ""
    }
   },
   "outputs": [],
   "source": [
    "data.select(col('Station Name').alias('Data Source')).display()"
   ]
  },
  {
   "cell_type": "markdown",
   "metadata": {
    "application/vnd.databricks.v1+cell": {
     "cellMetadata": {},
     "inputWidgets": {},
     "nuid": "7e49104c-483d-4c9d-9225-8423ca26e064",
     "showTitle": false,
     "tableResultSettingsMap": {},
     "title": ""
    }
   },
   "source": [
    "#### 3. FILTER/WHERE"
   ]
  },
  {
   "cell_type": "code",
   "execution_count": 0,
   "metadata": {
    "application/vnd.databricks.v1+cell": {
     "cellMetadata": {
      "byteLimit": 2048000,
      "rowLimit": 10000
     },
     "inputWidgets": {},
     "nuid": "15a7a036-9852-4d6d-b12a-7506a2acda96",
     "showTitle": false,
     "tableResultSettingsMap": {},
     "title": ""
    }
   },
   "outputs": [],
   "source": [
    "# Case 1 :- fetch all the Foster Weather Station data\n",
    "\n",
    "data.filter(col('Station Name') == 'Foster Weather Station').display()\n"
   ]
  },
  {
   "cell_type": "code",
   "execution_count": 0,
   "metadata": {
    "application/vnd.databricks.v1+cell": {
     "cellMetadata": {
      "byteLimit": 2048000,
      "rowLimit": 10000
     },
     "inputWidgets": {},
     "nuid": "ef790fa8-7fd8-4bce-a46c-03091a7559e5",
     "showTitle": false,
     "tableResultSettingsMap": {},
     "title": ""
    }
   },
   "outputs": [],
   "source": [
    "# Case 2 :- foster weather station where air temp is greater than 20\n",
    "data.filter(\n",
    "    (col('Station Name') != 'Foster Weather Station') & \\\n",
    "    (col('Humidity') > 20) \\\n",
    "    ).display()"
   ]
  },
  {
   "cell_type": "code",
   "execution_count": 0,
   "metadata": {
    "application/vnd.databricks.v1+cell": {
     "cellMetadata": {
      "byteLimit": 2048000,
      "rowLimit": 10000
     },
     "inputWidgets": {},
     "nuid": "6bbb67bd-d608-4f0c-9176-06d0df412f7f",
     "showTitle": false,
     "tableResultSettingsMap": {},
     "title": ""
    }
   },
   "outputs": [],
   "source": [
    "# Case 3 - isNull() and isin()\n",
    "data.filter(\\\n",
    "    col('Station Name').isin('63rd Street Weather Station', 'Foster Weather Station') &\\\n",
    "    col('Heading').isNull()\n",
    ").display()"
   ]
  },
  {
   "cell_type": "markdown",
   "metadata": {
    "application/vnd.databricks.v1+cell": {
     "cellMetadata": {},
     "inputWidgets": {},
     "nuid": "7dccdc76-1781-4a72-a568-c7b91e39deb2",
     "showTitle": false,
     "tableResultSettingsMap": {},
     "title": ""
    }
   },
   "source": [
    "#### 4. withColumnRenamed\n",
    "withColumnRenamed (org_col_name, new_col_name)\n",
    "\n",
    "#### 5. withColumn (new column or modify existing column)\n",
    "df.withColumn('new_col_name', lit('new'))"
   ]
  },
  {
   "cell_type": "code",
   "execution_count": 0,
   "metadata": {
    "application/vnd.databricks.v1+cell": {
     "cellMetadata": {
      "byteLimit": 2048000,
      "rowLimit": 10000
     },
     "inputWidgets": {},
     "nuid": "7956ab12-177c-4e5e-83d4-8cc7500a4d96",
     "showTitle": false,
     "tableResultSettingsMap": {},
     "title": ""
    }
   },
   "outputs": [],
   "source": [
    "# Replacing the values of staiion name\n",
    "data.withColumn('Station Name', regexp_replace(col('Station Name'), 'Foster Weather Station', 'Station 2')).display()"
   ]
  },
  {
   "cell_type": "markdown",
   "metadata": {
    "application/vnd.databricks.v1+cell": {
     "cellMetadata": {},
     "inputWidgets": {},
     "nuid": "088f95af-9c7d-4d06-b6ad-63b9b24df49d",
     "showTitle": false,
     "tableResultSettingsMap": {},
     "title": ""
    }
   },
   "source": [
    "#### 4. Type Casting type()"
   ]
  },
  {
   "cell_type": "markdown",
   "metadata": {
    "application/vnd.databricks.v1+cell": {
     "cellMetadata": {},
     "inputWidgets": {},
     "nuid": "b254d24d-462b-42b0-a6a0-73a24467340f",
     "showTitle": false,
     "tableResultSettingsMap": {},
     "title": ""
    }
   },
   "source": [
    "#### 5. Sort or Orderby\n",
    ".sort()"
   ]
  },
  {
   "cell_type": "code",
   "execution_count": 0,
   "metadata": {
    "application/vnd.databricks.v1+cell": {
     "cellMetadata": {
      "byteLimit": 2048000,
      "rowLimit": 10000
     },
     "inputWidgets": {},
     "nuid": "c14364b5-741c-4d29-be09-76a493bde55b",
     "showTitle": false,
     "tableResultSettingsMap": {},
     "title": ""
    }
   },
   "outputs": [],
   "source": [
    "# Case 1 - sort only single column\n",
    "data.sort(col('Humidity').desc()).display()"
   ]
  },
  {
   "cell_type": "code",
   "execution_count": 0,
   "metadata": {
    "application/vnd.databricks.v1+cell": {
     "cellMetadata": {
      "byteLimit": 2048000,
      "rowLimit": 10000
     },
     "inputWidgets": {},
     "nuid": "eb9bebd5-34bc-4c9e-880f-286533f9ab1b",
     "showTitle": false,
     "tableResultSettingsMap": {},
     "title": ""
    }
   },
   "outputs": [],
   "source": [
    "# Case 2 :- Sort on multiple values\n",
    "data.sort([col('Air Temperature'), col('Humidity')], ascending=[1, 0]).display()"
   ]
  },
  {
   "cell_type": "markdown",
   "metadata": {
    "application/vnd.databricks.v1+cell": {
     "cellMetadata": {},
     "inputWidgets": {},
     "nuid": "2b6aef47-d913-431e-8f00-d71d6403451a",
     "showTitle": false,
     "tableResultSettingsMap": {},
     "title": ""
    }
   },
   "source": [
    "#### 7. Limit"
   ]
  },
  {
   "cell_type": "code",
   "execution_count": 0,
   "metadata": {
    "application/vnd.databricks.v1+cell": {
     "cellMetadata": {
      "byteLimit": 2048000,
      "rowLimit": 10000
     },
     "inputWidgets": {},
     "nuid": "49855949-3b71-41ce-b469-5b3a71e348a9",
     "showTitle": false,
     "tableResultSettingsMap": {},
     "title": ""
    }
   },
   "outputs": [],
   "source": [
    "df = data.limit(100)\n",
    "df.display()"
   ]
  },
  {
   "cell_type": "markdown",
   "metadata": {
    "application/vnd.databricks.v1+cell": {
     "cellMetadata": {},
     "inputWidgets": {},
     "nuid": "415933ad-029e-4efe-801a-f724f31bb363",
     "showTitle": false,
     "tableResultSettingsMap": {},
     "title": ""
    }
   },
   "source": [
    "#### 8. Drop - To drop columns\n",
    "data.drop(col('col_name'))\n",
    "data.drop('col_1', 'col_2')"
   ]
  },
  {
   "cell_type": "markdown",
   "metadata": {
    "application/vnd.databricks.v1+cell": {
     "cellMetadata": {},
     "inputWidgets": {},
     "nuid": "0f989be2-c5ef-434b-852c-03197bb15f94",
     "showTitle": false,
     "tableResultSettingsMap": {},
     "title": ""
    }
   },
   "source": [
    "#### 9. Drop Duplicates\n"
   ]
  },
  {
   "cell_type": "markdown",
   "metadata": {
    "application/vnd.databricks.v1+cell": {
     "cellMetadata": {},
     "inputWidgets": {},
     "nuid": "6d68a2f4-28bf-45b7-a0a2-fdc3796c35da",
     "showTitle": false,
     "tableResultSettingsMap": {},
     "title": ""
    }
   },
   "source": [
    "### Data Function\n",
    "current_date(), date_add(), date_diff()"
   ]
  },
  {
   "cell_type": "code",
   "execution_count": 0,
   "metadata": {
    "application/vnd.databricks.v1+cell": {
     "cellMetadata": {
      "byteLimit": 2048000,
      "rowLimit": 10000
     },
     "inputWidgets": {},
     "nuid": "b40dbb25-27f4-4bf5-8c73-d5493a3e90a8",
     "showTitle": false,
     "tableResultSettingsMap": {},
     "title": ""
    }
   },
   "outputs": [],
   "source": [
    "df = df.withColumn('Current Date', current_date())"
   ]
  },
  {
   "cell_type": "code",
   "execution_count": 0,
   "metadata": {
    "application/vnd.databricks.v1+cell": {
     "cellMetadata": {
      "byteLimit": 2048000,
      "rowLimit": 10000
     },
     "inputWidgets": {},
     "nuid": "f21652ab-c8ae-42a8-8228-66dfab6309d9",
     "showTitle": false,
     "tableResultSettingsMap": {},
     "title": ""
    }
   },
   "outputs": [],
   "source": [
    "df = df.withColumn('Week After' , date_add('Current Date', 7))\n",
    "df.display()"
   ]
  },
  {
   "cell_type": "code",
   "execution_count": 0,
   "metadata": {
    "application/vnd.databricks.v1+cell": {
     "cellMetadata": {
      "byteLimit": 2048000,
      "rowLimit": 10000
     },
     "inputWidgets": {},
     "nuid": "1aa5a5b6-eeca-452f-b4be-c00706124163",
     "showTitle": false,
     "tableResultSettingsMap": {},
     "title": ""
    }
   },
   "outputs": [],
   "source": [
    "df = df.withColumn('Num of days', datediff('Current Date', 'Week After'))\n",
    "df.display()"
   ]
  },
  {
   "cell_type": "markdown",
   "metadata": {
    "application/vnd.databricks.v1+cell": {
     "cellMetadata": {},
     "inputWidgets": {},
     "nuid": "ba2a043c-557e-43c0-8d42-db1f85826897",
     "showTitle": false,
     "tableResultSettingsMap": {},
     "title": ""
    }
   },
   "source": [
    "#### Changing date format with date_format"
   ]
  },
  {
   "cell_type": "code",
   "execution_count": 0,
   "metadata": {
    "application/vnd.databricks.v1+cell": {
     "cellMetadata": {
      "byteLimit": 2048000,
      "rowLimit": 10000
     },
     "inputWidgets": {},
     "nuid": "2f3a30b7-19c3-49ee-9f5b-300d3f033003",
     "showTitle": false,
     "tableResultSettingsMap": {},
     "title": ""
    }
   },
   "outputs": [],
   "source": [
    "spark.conf.set(\"spark.sql.legacy.timeParserPolicy\",\"LEGACY\")"
   ]
  },
  {
   "cell_type": "code",
   "execution_count": 0,
   "metadata": {
    "application/vnd.databricks.v1+cell": {
     "cellMetadata": {
      "byteLimit": 2048000,
      "rowLimit": 10000
     },
     "inputWidgets": {},
     "nuid": "d9d58ca0-0b2f-48a0-8bfe-331345c94cc4",
     "showTitle": false,
     "tableResultSettingsMap": {},
     "title": ""
    }
   },
   "outputs": [],
   "source": [
    "df = df.withColumn('Current Date', date_format('Current Date', 'yyyy-MM-dd'))\n",
    "df.display()"
   ]
  },
  {
   "cell_type": "markdown",
   "metadata": {
    "application/vnd.databricks.v1+cell": {
     "cellMetadata": {},
     "inputWidgets": {},
     "nuid": "7c58c2b8-8441-47d4-83d9-55dd9fd99e67",
     "showTitle": false,
     "tableResultSettingsMap": {},
     "title": ""
    }
   },
   "source": [
    "### Handling Null values\n",
    "Two options - a. Remove rows which contain null values (dropping nulls) <br>\n",
    "b. Fill the null values with mean or some other value (filling nulls)"
   ]
  },
  {
   "cell_type": "code",
   "execution_count": 0,
   "metadata": {
    "application/vnd.databricks.v1+cell": {
     "cellMetadata": {
      "byteLimit": 2048000,
      "rowLimit": 10000
     },
     "inputWidgets": {},
     "nuid": "03e18cb8-0bcf-4a9e-84c7-55ad219eb482",
     "showTitle": false,
     "tableResultSettingsMap": {},
     "title": ""
    }
   },
   "outputs": [],
   "source": [
    "df.dropna(subset=['Wet Bulb Temperature']).display()"
   ]
  },
  {
   "cell_type": "markdown",
   "metadata": {
    "application/vnd.databricks.v1+cell": {
     "cellMetadata": {},
     "inputWidgets": {},
     "nuid": "b0660046-6e68-47de-be28-f8650e733f34",
     "showTitle": false,
     "tableResultSettingsMap": {},
     "title": ""
    }
   },
   "source": [
    "#### Filling values"
   ]
  },
  {
   "cell_type": "code",
   "execution_count": 0,
   "metadata": {
    "application/vnd.databricks.v1+cell": {
     "cellMetadata": {
      "byteLimit": 2048000,
      "rowLimit": 10000
     },
     "inputWidgets": {},
     "nuid": "edc83b29-3da2-4d86-b31b-4859f1f65c70",
     "showTitle": false,
     "tableResultSettingsMap": {},
     "title": ""
    }
   },
   "outputs": [],
   "source": [
    "df.fillna(0, subset=['Wet Bulb Temperature']).display()"
   ]
  },
  {
   "cell_type": "markdown",
   "metadata": {
    "application/vnd.databricks.v1+cell": {
     "cellMetadata": {},
     "inputWidgets": {},
     "nuid": "5cd4ad55-2691-44dd-845e-1785f7ab52da",
     "showTitle": false,
     "tableResultSettingsMap": {},
     "title": ""
    }
   },
   "source": [
    "#### Group By with aggregated function\n"
   ]
  },
  {
   "cell_type": "code",
   "execution_count": 0,
   "metadata": {
    "application/vnd.databricks.v1+cell": {
     "cellMetadata": {
      "byteLimit": 2048000,
      "rowLimit": 10000
     },
     "inputWidgets": {},
     "nuid": "24d97cd7-31bd-4745-a83d-5e16e2b0da7b",
     "showTitle": false,
     "tableResultSettingsMap": {},
     "title": ""
    }
   },
   "outputs": [],
   "source": [
    "df.groupBy('Station Name').agg(sum('Air Temperature')).display()"
   ]
  },
  {
   "cell_type": "code",
   "execution_count": 0,
   "metadata": {
    "application/vnd.databricks.v1+cell": {
     "cellMetadata": {
      "byteLimit": 2048000,
      "rowLimit": 10000
     },
     "inputWidgets": {},
     "nuid": "00a26e88-7781-4d39-83d6-983163b8a1da",
     "showTitle": false,
     "tableResultSettingsMap": {},
     "title": ""
    }
   },
   "outputs": [],
   "source": [
    "df.groupBy('Station Name').agg(max('Air Temperature')).display()"
   ]
  },
  {
   "cell_type": "code",
   "execution_count": 0,
   "metadata": {
    "application/vnd.databricks.v1+cell": {
     "cellMetadata": {
      "byteLimit": 2048000,
      "rowLimit": 10000
     },
     "inputWidgets": {},
     "nuid": "0f270927-8d04-4c85-9069-f8fecabbd33c",
     "showTitle": false,
     "tableResultSettingsMap": {},
     "title": ""
    }
   },
   "outputs": [],
   "source": [
    "# Groupby on multiple columns\n",
    "df.groupby('Station Name').agg(max('Air Temperature').alias('Max Temp'), avg('Air Temperature').alias('Avg Temp')).display()"
   ]
  },
  {
   "cell_type": "markdown",
   "metadata": {
    "application/vnd.databricks.v1+cell": {
     "cellMetadata": {},
     "inputWidgets": {},
     "nuid": "aec5305e-a69b-47cb-a10a-dc61cc2e69b9",
     "showTitle": false,
     "tableResultSettingsMap": {},
     "title": ""
    }
   },
   "source": [
    "#### Collect List - Group by and store the entity in a single column"
   ]
  },
  {
   "cell_type": "code",
   "execution_count": 0,
   "metadata": {
    "application/vnd.databricks.v1+cell": {
     "cellMetadata": {
      "byteLimit": 2048000,
      "rowLimit": 10000
     },
     "inputWidgets": {},
     "nuid": "fadb9b3e-63e5-4bdd-9e69-1c01b96fcf93",
     "showTitle": false,
     "tableResultSettingsMap": {},
     "title": ""
    }
   },
   "outputs": [],
   "source": [
    "data = [('user1', 'book1'),\n",
    "        ('user1', 'book2'),\n",
    "        ('user2', 'book1'),\n",
    "        ('user2', 'book2'),\n",
    "        ('user2', 'book3'),\n",
    "        ('user3', 'book1'),\n",
    "        ('user3', 'book3')]\n",
    "\n",
    "my_schema = 'user string, book string'\n",
    "\n",
    "df_book = spark.createDataFrame(data, my_schema)\n",
    "df_book.display()"
   ]
  },
  {
   "cell_type": "code",
   "execution_count": 0,
   "metadata": {
    "application/vnd.databricks.v1+cell": {
     "cellMetadata": {
      "byteLimit": 2048000,
      "rowLimit": 10000
     },
     "inputWidgets": {},
     "nuid": "77984573-80eb-4341-8d2c-cdf91bc21a8d",
     "showTitle": false,
     "tableResultSettingsMap": {},
     "title": ""
    }
   },
   "outputs": [],
   "source": [
    "df_book.groupby('user').agg(collect_list('book')).display()"
   ]
  },
  {
   "cell_type": "markdown",
   "metadata": {
    "application/vnd.databricks.v1+cell": {
     "cellMetadata": {},
     "inputWidgets": {},
     "nuid": "b3485a45-c095-4ba1-99b4-a5326e1a6cf2",
     "showTitle": false,
     "tableResultSettingsMap": {},
     "title": ""
    }
   },
   "source": [
    "### Pivot Tables"
   ]
  },
  {
   "cell_type": "code",
   "execution_count": 0,
   "metadata": {
    "application/vnd.databricks.v1+cell": {
     "cellMetadata": {
      "byteLimit": 2048000,
      "rowLimit": 10000
     },
     "inputWidgets": {},
     "nuid": "0c25ab68-5a7f-439b-8dfd-6b29468a193c",
     "showTitle": false,
     "tableResultSettingsMap": {},
     "title": ""
    }
   },
   "outputs": [],
   "source": [
    "cafe_data = [('Mumbai', 'Kurla', 500),\n",
    "        ('Mumbai', 'Dadat', 500),\n",
    "        ('Mumbai', 'BKC', 200),\n",
    "        ('Delhi', 'NCR', 1000),\n",
    "        ('Delhi', 'DKC', 300),\n",
    "        ('Kolkata', 'Babumushai', 400),\n",
    "        ('Kolkata', 'Huwda', 500)]\n",
    "\n",
    "my_schema = 'city string, place string, capacity integer'\n",
    "\n",
    "df_cafe = spark.createDataFrame(cafe_data, my_schema)\n",
    "df_cafe.display()"
   ]
  },
  {
   "cell_type": "code",
   "execution_count": 0,
   "metadata": {
    "application/vnd.databricks.v1+cell": {
     "cellMetadata": {
      "byteLimit": 2048000,
      "rowLimit": 10000
     },
     "inputWidgets": {},
     "nuid": "9a95188e-1587-41e6-a9f0-b6c8b700b317",
     "showTitle": false,
     "tableResultSettingsMap": {},
     "title": ""
    }
   },
   "outputs": [],
   "source": [
    "df_cafe.groupBy('city').pivot('place').agg(avg('capacity')).display()"
   ]
  },
  {
   "cell_type": "markdown",
   "metadata": {
    "application/vnd.databricks.v1+cell": {
     "cellMetadata": {},
     "inputWidgets": {},
     "nuid": "271452a1-a6a0-44e2-9a09-ea84cf69e708",
     "showTitle": false,
     "tableResultSettingsMap": {},
     "title": ""
    }
   },
   "source": [
    "### When-Otherwise"
   ]
  },
  {
   "cell_type": "code",
   "execution_count": 0,
   "metadata": {
    "application/vnd.databricks.v1+cell": {
     "cellMetadata": {
      "byteLimit": 2048000,
      "rowLimit": 10000
     },
     "collapsed": true,
     "inputWidgets": {},
     "nuid": "d86fec06-1a8f-4e31-bd63-5a9a773ad2e6",
     "showTitle": false,
     "tableResultSettingsMap": {},
     "title": ""
    }
   },
   "outputs": [],
   "source": [
    "# Create a new column named \"Temperature\" which displays high, low depending on the Air Temperature value\n",
    "df.withColumn('Temperature', when(col('Air Temperature')>20, 'high').otherwise('low')).display()"
   ]
  },
  {
   "cell_type": "markdown",
   "metadata": {
    "application/vnd.databricks.v1+cell": {
     "cellMetadata": {},
     "inputWidgets": {},
     "nuid": "5ec84c81-db14-4a59-b713-10e14d802b89",
     "showTitle": false,
     "tableResultSettingsMap": {},
     "title": ""
    }
   },
   "source": [
    "### Joins\n",
    "inner, left, right, full <br>\n",
    "Anti join - Records which doesn't have any mapping"
   ]
  },
  {
   "cell_type": "code",
   "execution_count": 0,
   "metadata": {
    "application/vnd.databricks.v1+cell": {
     "cellMetadata": {},
     "inputWidgets": {},
     "nuid": "51d37b3e-45eb-4b2c-a3a8-362c81b98aaf",
     "showTitle": false,
     "tableResultSettingsMap": {},
     "title": ""
    }
   },
   "outputs": [],
   "source": [
    "df1.join(df2, df1['id'] == df2['id'], 'inner')"
   ]
  },
  {
   "cell_type": "markdown",
   "metadata": {
    "application/vnd.databricks.v1+cell": {
     "cellMetadata": {},
     "inputWidgets": {},
     "nuid": "f4e4b6ec-6c84-412d-b949-3ba1fef7e414",
     "showTitle": false,
     "tableResultSettingsMap": {},
     "title": ""
    }
   },
   "source": [
    "### Examples for performing join operations\n",
    "Two tables :- User and Order"
   ]
  },
  {
   "cell_type": "code",
   "execution_count": 0,
   "metadata": {
    "application/vnd.databricks.v1+cell": {
     "cellMetadata": {
      "byteLimit": 2048000,
      "rowLimit": 10000
     },
     "inputWidgets": {},
     "nuid": "d3b98c57-3222-4991-88fb-26e0b2db5262",
     "showTitle": false,
     "tableResultSettingsMap": {},
     "title": ""
    }
   },
   "outputs": [],
   "source": [
    "user_data = [\n",
    "  (1, 'Alice', 25, 'New York'),\n",
    "(2, 'Bob', 30, 'Los Angeles'),\n",
    "(3, 'Charlie', 28, 'Chicago'),\n",
    "(4, 'Dana', 22, 'Houston'),\n",
    "(5, 'Evan', 35, 'Phoenix'),\n",
    "(6, 'Fiona', 27, 'San Francisco'),\n",
    "(7, 'George', 31, 'Seattle'),\n",
    "(8, 'Hannah', 24, 'Boston'),\n",
    "(9, 'Ian', 29, 'Denver'),\n",
    "(10, 'Judy', 33, 'Atlanta'),\n",
    "(11, 'Kevin', 40, 'Dallas'),\n",
    "(12, 'Laura', 26, 'San Diego'),\n",
    "(13, 'Mike', 34, 'Austin'),\n",
    "(14, 'Nina', 23, 'San Jose'),\n",
    "(15, 'Oliver', 36, 'Las Vegas'),\n",
    "(16, 'Paula', 38, 'Miami'),\n",
    "(17, 'Quinn', 29, 'Orlando'),\n",
    "(18, 'Rachel', 25, 'Portland'),\n",
    "(19, 'Sam', 37, 'Salt Lake City'),\n",
    "(20, 'Tina', 32, 'Philadelphia'),\n",
    "(21, 'Uma', 27, 'Baltimore'),\n",
    "(22, 'Victor', 41, 'Charlotte'),\n",
    "(23, 'Wendy', 30, 'Columbus'),\n",
    "(24, 'Xander', 28, 'Indianapolis'),\n",
    "(25, 'Yara', 35, 'Memphis'),\n",
    "(26, 'Zane', 26, 'Nashville'),\n",
    "(27, 'Alison', 22, 'Cincinnati'),\n",
    "(28, 'Brad', 39, 'Kansas City'),\n",
    "(29, 'Cindy', 21, 'Oklahoma City'),\n",
    "(30, 'Derek', 33, 'New Orleans'),\n",
    "(31, 'Elaine', 34, 'Louisville'),\n",
    "(32, 'Frank', 40, 'Minneapolis'),\n",
    "(33, 'Gloria', 29, 'Tampa'),\n",
    "(34, 'Harry', 32, 'Pittsburgh'),\n",
    "(35, 'Isla', 31, 'Cleveland'),\n",
    "(36, 'Jack', 28, 'Sacramento'),\n",
    "(37, 'Karen', 25, 'Albuquerque'),\n",
    "(38, 'Leon', 30, 'Milwaukee'),\n",
    "(39, 'Megan', 27, 'Tucson'),\n",
    "(40, 'Nathan', 36, 'Fresno'),\n",
    "(41, 'Olivia', 38, 'Mesa'),\n",
    "(42, 'Peter', 34, 'Sacramento'),\n",
    "(43, 'Quincy', 35, 'Virginia Beach'),\n",
    "(44, 'Rose', 26, 'Oakland'),\n",
    "(45, 'Steve', 39, 'Long Beach'),\n",
    "(46, 'Tara', 40, 'St. Louis'),\n",
    "(47, 'Ursula', 28, 'Raleigh'),\n",
    "(48, 'Vince', 37, 'Anchorage'),\n",
    "(49, 'Wes', 33, 'Santa Ana'),\n",
    "(50, 'Xena', 29, 'Bakersfield')\n",
    "]\n",
    "\n",
    "user_schema = 'user_id integer, name string, age integer, city string'\n",
    "\n",
    "users_df = spark.createDataFrame(user_data, user_schema)"
   ]
  },
  {
   "cell_type": "code",
   "execution_count": 0,
   "metadata": {
    "application/vnd.databricks.v1+cell": {
     "cellMetadata": {
      "byteLimit": 2048000,
      "rowLimit": 10000
     },
     "inputWidgets": {},
     "nuid": "51512578-1ad2-4843-a267-f8b21543c620",
     "showTitle": false,
     "tableResultSettingsMap": {},
     "title": ""
    }
   },
   "outputs": [],
   "source": [
    "new_user_data = [(46, 'R', 25, 'New York')]\n",
    "\n",
    "new_user_df = spark.createDataFrame(new_user_data, user_schema)\n",
    "users_df = users_df.union(new_user_df)\n",
    "users_df.display()"
   ]
  },
  {
   "cell_type": "code",
   "execution_count": 0,
   "metadata": {
    "application/vnd.databricks.v1+cell": {
     "cellMetadata": {
      "byteLimit": 2048000,
      "rowLimit": 10000
     },
     "inputWidgets": {},
     "nuid": "c28031d7-4ec2-4c4b-97e5-0dee72582d0a",
     "showTitle": false,
     "tableResultSettingsMap": {},
     "title": ""
    }
   },
   "outputs": [],
   "source": [
    "orders_data = [\n",
    "    (1, 1, 'January', 100.50),\n",
    "(2, 1, 'February', 75.00),\n",
    "(3, 2, 'January', 200.00),\n",
    "(4, 3, 'March', 150.00),\n",
    "(5, 4, 'April', 125.00),\n",
    "(6, 5, 'May', 300.00),\n",
    "(7, 6, 'June', 250.00),\n",
    "(8, 7, 'July', 175.50),\n",
    "(9, 8, 'August', 120.75),\n",
    "(10, 9, 'September', 180.00),\n",
    "(11, 10, 'October', 220.00),\n",
    "(12, 11, 'November', 400.00),\n",
    "(13, 12, 'December', 350.00),\n",
    "(14, 13, 'January', 95.00),\n",
    "(15, 14, 'February', 135.00),\n",
    "(16, 15, 'March', 80.00),\n",
    "(17, 16, 'April', 190.00),\n",
    "(18, 17, 'May', 240.00),\n",
    "(19, 18, 'June', 105.00),\n",
    "(20, 19, 'July', 300.00),\n",
    "(21, 20, 'August', 260.00),\n",
    "(22, 21, 'September', 110.00),\n",
    "(23, 22, 'October', 210.00),\n",
    "(24, 23, 'November', 280.00),\n",
    "(25, 24, 'December', 390.00),\n",
    "(26, 25, 'January', 50.00),\n",
    "(27, 26, 'February', 60.00),\n",
    "(28, 27, 'March', 75.00),\n",
    "(29, 28, 'April', 85.00),\n",
    "(30, 29, 'May', 95.00),\n",
    "(31, 30, 'June', 105.00),\n",
    "(32, 31, 'July', 115.00),\n",
    "(33, 32, 'August', 125.00),\n",
    "(34, 33, 'September', 135.00),\n",
    "(35, 34, 'October', 145.00),\n",
    "(36, 35, 'November', 155.00),\n",
    "(37, 36, 'December', 165.00),\n",
    "(38, 37, 'January', 175.00),\n",
    "(39, 38, 'February', 185.00),\n",
    "(40, 39, 'March', 195.00),\n",
    "(41, 40, 'April', 205.00),\n",
    "(42, 41, 'May', 215.00),\n",
    "(43, 42, 'June', 225.00),\n",
    "(44, 43, 'July', 235.00),\n",
    "(45, 44, 'August', 245.00),\n",
    "(46, 45, 'September', 255.00),\n",
    "(47, 46, 'October', 265.00),\n",
    "(48, 47, 'November', 275.00),\n",
    "(49, 48, 'December', 285.00),\n",
    "(50, 49, 'January', 295.00)\n",
    "]\n",
    "\n",
    "orders_schema = 'order_id integer, user_id integer, order_month string, order_amount double'\n",
    "\n",
    "orders_df = spark.createDataFrame(orders_data, orders_schema)"
   ]
  },
  {
   "cell_type": "markdown",
   "metadata": {
    "application/vnd.databricks.v1+cell": {
     "cellMetadata": {},
     "inputWidgets": {},
     "nuid": "e5293ddc-a397-49dc-833d-4e9ff8fa2d00",
     "showTitle": false,
     "tableResultSettingsMap": {},
     "title": ""
    }
   },
   "source": [
    "#### Exercises\n",
    "1. Find the names of users and their respective order amounts for all users who have placed at least one order."
   ]
  },
  {
   "cell_type": "code",
   "execution_count": 0,
   "metadata": {
    "application/vnd.databricks.v1+cell": {
     "cellMetadata": {
      "byteLimit": 2048000,
      "rowLimit": 10000
     },
     "inputWidgets": {},
     "nuid": "e90196e9-7a59-4897-9f4e-d5fbd709edd7",
     "showTitle": false,
     "tableResultSettingsMap": {},
     "title": ""
    }
   },
   "outputs": [],
   "source": [
    "users_df.join(orders_df, users_df['user_id'] == orders_df['user_id'], 'inner').display()"
   ]
  },
  {
   "cell_type": "code",
   "execution_count": 0,
   "metadata": {
    "application/vnd.databricks.v1+cell": {
     "cellMetadata": {
      "byteLimit": 2048000,
      "rowLimit": 10000
     },
     "inputWidgets": {},
     "nuid": "f1b281c0-e862-4206-9e27-99f474495ffc",
     "showTitle": false,
     "tableResultSettingsMap": {},
     "title": ""
    }
   },
   "outputs": [],
   "source": [
    "users_df.join(orders_df, users_df['user_id'] == orders_df['user_id'], 'left').display()"
   ]
  },
  {
   "cell_type": "markdown",
   "metadata": {
    "application/vnd.databricks.v1+cell": {
     "cellMetadata": {},
     "inputWidgets": {},
     "nuid": "172261f2-2fe6-400d-bec6-422d82bd292a",
     "showTitle": false,
     "tableResultSettingsMap": {},
     "title": ""
    }
   },
   "source": [
    "SQL Query <br>\n",
    "SELECT user.name, order.order_amount <br>\n",
    "FROM users as user <br>\n",
    "INNER JOIN orders as order <br>\n",
    "ON user.user_id = order.user_id <br>\n"
   ]
  },
  {
   "cell_type": "code",
   "execution_count": 0,
   "metadata": {
    "application/vnd.databricks.v1+cell": {
     "cellMetadata": {
      "byteLimit": 2048000,
      "rowLimit": 10000
     },
     "inputWidgets": {},
     "nuid": "cb029fa9-6b4c-4fdd-ac66-364bed7b5476",
     "showTitle": false,
     "tableResultSettingsMap": {},
     "title": ""
    }
   },
   "outputs": [],
   "source": [
    "# Find the names of users and their respective order amounts for all users who have placed at least one order.\n",
    "users_df.join(orders_df, users_df['user_id'] == orders_df['user_id'], 'inner') \\\n",
    "    .select(users_df['name'], orders_df['order_id'], orders_df['order_amount']) \\\n",
    "    .display()"
   ]
  },
  {
   "cell_type": "markdown",
   "metadata": {
    "application/vnd.databricks.v1+cell": {
     "cellMetadata": {},
     "inputWidgets": {},
     "nuid": "8ec2e164-3f75-4f10-8fa4-90d8f0fd31cc",
     "showTitle": false,
     "tableResultSettingsMap": {},
     "title": ""
    }
   },
   "source": [
    "2. List all users along with their order amounts. If a user hasn’t placed any orders, display NULL for the order amount. <br>\n",
    "SELECT u.name, o.order_amount <br>\n",
    "FROM user AS u<br>\n",
    "LEFT JOIN order AS o<br>\n",
    "ON u.user_id = o.user_id<br>"
   ]
  },
  {
   "cell_type": "code",
   "execution_count": 0,
   "metadata": {
    "application/vnd.databricks.v1+cell": {
     "cellMetadata": {
      "byteLimit": 2048000,
      "rowLimit": 10000
     },
     "inputWidgets": {},
     "nuid": "1dba3a2b-f778-498f-be22-c08de5473844",
     "showTitle": false,
     "tableResultSettingsMap": {},
     "title": ""
    }
   },
   "outputs": [],
   "source": [
    "# List all users along with their order amounts. If a user hasn’t placed any orders, display NULL for the order amount.\n",
    "users_df.join(orders_df, users_df['user_id'] == orders_df['user_id'], 'left') \\\n",
    "    .select(users_df['name'], orders_df['order_id'], orders_df['order_amount']) \\\n",
    "    .display()"
   ]
  },
  {
   "cell_type": "markdown",
   "metadata": {
    "application/vnd.databricks.v1+cell": {
     "cellMetadata": {},
     "inputWidgets": {},
     "nuid": "f688f3b2-ecab-4821-bb2d-b8bee6bcddf0",
     "showTitle": false,
     "tableResultSettingsMap": {},
     "title": ""
    }
   },
   "source": [
    "3. Find pairs of users who live in the same city. Exclude pairs where the user IDs are the same. <br>\n",
    "SELECT u1.name, u2.name, u1.city <br>\n",
    "FROM user AS u1 <br>\n",
    "JOIN user AS u2 <br>\n",
    "ON u1.city = u2.city AND u1.user_id != u2.user_id <br>"
   ]
  },
  {
   "cell_type": "code",
   "execution_count": 0,
   "metadata": {
    "application/vnd.databricks.v1+cell": {
     "cellMetadata": {
      "byteLimit": 2048000,
      "rowLimit": 10000
     },
     "inputWidgets": {},
     "nuid": "51629348-f7a6-4a5c-ad74-6e1b2b40da1f",
     "showTitle": false,
     "tableResultSettingsMap": {},
     "title": ""
    }
   },
   "outputs": [],
   "source": [
    "users_df.alias('u1').join(users_df.alias('u2'), (col('u1.city') == col('u2.city')) \\\n",
    "                & (col('u1.user_id') != col('u2.user_id')), 'inner') \\\n",
    "                .select(col('u1.name'), col('u2.name'), col('u1.city')) \\\n",
    "                .display()"
   ]
  },
  {
   "cell_type": "markdown",
   "metadata": {
    "application/vnd.databricks.v1+cell": {
     "cellMetadata": {},
     "inputWidgets": {},
     "nuid": "e65e7ce5-855a-40b0-9b6a-df3f478e3ae6",
     "showTitle": false,
     "tableResultSettingsMap": {},
     "title": ""
    }
   },
   "source": [
    "4. Get the total amount spend by the user <br>\n",
    "SELECT u.name, o.total_order_amount <br>\n",
    "FROM user AS u<br>\n",
    "JOIN (<br>\n",
    "  SELECT user_id, SUM(order_amount) AS total_order_amount <br>\n",
    "  FROM orders<br>\n",
    "  GROUP BY user_id<br>\n",
    ") AS o<br>\n",
    "ON u.user_id = o.user_id"
   ]
  },
  {
   "cell_type": "code",
   "execution_count": 0,
   "metadata": {
    "application/vnd.databricks.v1+cell": {
     "cellMetadata": {
      "byteLimit": 2048000,
      "rowLimit": 10000
     },
     "inputWidgets": {},
     "nuid": "94b8c2cd-a7e8-4f43-a45f-fc99bdad0e55",
     "showTitle": false,
     "tableResultSettingsMap": {},
     "title": ""
    }
   },
   "outputs": [],
   "source": [
    "users_df.alias('u').join(\n",
    "                orders_df.groupBy(col('user_id')).agg(sum(col('order_amount')).alias('total_amount')).select(col('user_id'), col('total_amount')).alias('o'), col('u.user_id') == col('o.user_id'), 'inner').select(col('u.name'), col('o.total_amount')).display()"
   ]
  },
  {
   "cell_type": "markdown",
   "metadata": {
    "application/vnd.databricks.v1+cell": {
     "cellMetadata": {},
     "inputWidgets": {},
     "nuid": "f7214a4f-628a-4702-8731-847bf28ad225",
     "showTitle": false,
     "tableResultSettingsMap": {},
     "title": ""
    }
   },
   "source": [
    "### Window Functions\n",
    "Window functions are the special functions which perform row-level calculation.\n",
    "Popular - row number, rank, dense rank <br>\n",
    "Row number :- Assigns a unique number to unique rows (usecase - remove duplicates, create surrogate keys)"
   ]
  },
  {
   "cell_type": "code",
   "execution_count": 0,
   "metadata": {
    "application/vnd.databricks.v1+cell": {
     "cellMetadata": {
      "byteLimit": 2048000,
      "rowLimit": 10000
     },
     "inputWidgets": {},
     "nuid": "98325553-47b9-49ce-824f-24625ef35345",
     "showTitle": false,
     "tableResultSettingsMap": {},
     "title": ""
    }
   },
   "outputs": [],
   "source": [
    "from pyspark.sql.window import Window"
   ]
  },
  {
   "cell_type": "code",
   "execution_count": 0,
   "metadata": {
    "application/vnd.databricks.v1+cell": {
     "cellMetadata": {
      "byteLimit": 2048000,
      "rowLimit": 10000
     },
     "inputWidgets": {},
     "nuid": "ac9c8d3a-3d5f-4cdb-8673-6751c5446ed7",
     "showTitle": false,
     "tableResultSettingsMap": {},
     "title": ""
    }
   },
   "outputs": [],
   "source": [
    "users_df.withColumn('row_number', \\\n",
    "    row_number().over(Window.orderBy('city'))\\\n",
    "    ).display()"
   ]
  },
  {
   "cell_type": "code",
   "execution_count": 0,
   "metadata": {
    "application/vnd.databricks.v1+cell": {
     "cellMetadata": {
      "byteLimit": 2048000,
      "rowLimit": 10000
     },
     "inputWidgets": {},
     "nuid": "4e2cc34f-e6be-4aeb-8887-925d97f2040a",
     "showTitle": false,
     "tableResultSettingsMap": {},
     "title": ""
    }
   },
   "outputs": [],
   "source": [
    "# Age ke basis pe rank dena hai descending order\n",
    "users_df.withColumn('row rank', rank().over(Window.orderBy(col('age').desc())))\\\n",
    "    .withColumn('row dense rank', dense_rank().over(Window.orderBy(col('age').desc()))).display()"
   ]
  },
  {
   "cell_type": "markdown",
   "metadata": {
    "application/vnd.databricks.v1+cell": {
     "cellMetadata": {},
     "inputWidgets": {},
     "nuid": "0dbfc184-b92f-43cc-900b-d4dc03525a3f",
     "showTitle": false,
     "tableResultSettingsMap": {},
     "title": ""
    }
   },
   "source": [
    "##### cumulative sum\n",
    "frame function --- inside the over function"
   ]
  },
  {
   "cell_type": "code",
   "execution_count": 0,
   "metadata": {
    "application/vnd.databricks.v1+cell": {
     "cellMetadata": {
      "byteLimit": 2048000,
      "rowLimit": 10000
     },
     "inputWidgets": {},
     "nuid": "81612d1e-faf2-4abd-8435-3a002496ea4a",
     "showTitle": false,
     "tableResultSettingsMap": {},
     "title": ""
    }
   },
   "outputs": [],
   "source": [
    "orders_df.withColumn('cumsum', sum('order_amount').over(Window.orderBy('user_id'))).display()"
   ]
  },
  {
   "cell_type": "code",
   "execution_count": 0,
   "metadata": {
    "application/vnd.databricks.v1+cell": {
     "cellMetadata": {
      "byteLimit": 2048000,
      "rowLimit": 10000
     },
     "inputWidgets": {},
     "nuid": "219869be-915a-4efb-ba2e-751089d065c1",
     "showTitle": false,
     "tableResultSettingsMap": {},
     "title": ""
    }
   },
   "outputs": [],
   "source": [
    "orders_df.withColumn('cumsum', sum('order_amount').over(Window.orderBy('user_id').rowsBetween(Window.unboundedPreceding, Window.currentRow))).display()"
   ]
  },
  {
   "cell_type": "code",
   "execution_count": 0,
   "metadata": {
    "application/vnd.databricks.v1+cell": {
     "cellMetadata": {
      "byteLimit": 2048000,
      "rowLimit": 10000
     },
     "inputWidgets": {},
     "nuid": "a5e0456a-8ee4-40ce-a543-855697c44ca9",
     "showTitle": false,
     "tableResultSettingsMap": {},
     "title": ""
    }
   },
   "outputs": [],
   "source": [
    "orders_schema = 'order_id integer, user_id integer, order_month string, order_amount double'\n",
    "\n",
    "new_order_data = [\n",
    "(52, 7, 'July', 145.50),\n",
    "(65, 8, 'August', 170.75),\n",
    "(66, 9, 'September', 180.00),\n",
    "(67, 10, 'October', 220.00),\n",
    "(68, 11, 'November', 440.00),\n",
    "(53, 12, 'December', 350.00),\n",
    "(54, 13, 'January', 915.00),\n",
    "(55, 14, 'February', 105.00),\n",
    "(56, 15, 'March', 180.00),\n",
    "(57, 16, 'April', 290.00),\n",
    "(58, 17, 'May', 240.00),\n",
    "(59, 18, 'June', 105.00),\n",
    "(60, 19, 'July', 300.00),\n",
    "(61, 20, 'August', 240.00),\n",
    "(62, 21, 'September', 210.00),\n",
    "(63, 22, 'October', 290.00),\n",
    "(64, 23, 'November', 980.00)\n",
    "]\n",
    "\n",
    "new_orders_df = spark.createDataFrame(new_order_data, orders_schema)\n",
    "orders_df = orders_df.union(new_orders_df)\n",
    "orders_df.display()"
   ]
  },
  {
   "cell_type": "code",
   "execution_count": 0,
   "metadata": {
    "application/vnd.databricks.v1+cell": {
     "cellMetadata": {
      "byteLimit": 2048000,
      "rowLimit": 10000
     },
     "inputWidgets": {},
     "nuid": "a4ac04f9-93c6-4912-8f37-4546fb969974",
     "showTitle": false,
     "tableResultSettingsMap": {},
     "title": ""
    }
   },
   "outputs": [],
   "source": [
    "orders_df.withColumn('Cumulative Sum', sum('order_amount').over(Window.orderBy('user_id').rowsBetween(Window.unboundedPreceding, Window.currentRow))).display()"
   ]
  },
  {
   "cell_type": "markdown",
   "metadata": {
    "application/vnd.databricks.v1+cell": {
     "cellMetadata": {},
     "inputWidgets": {},
     "nuid": "f9964b3f-4408-4560-927c-ccc7edeff314",
     "showTitle": false,
     "tableResultSettingsMap": {},
     "title": ""
    }
   },
   "source": [
    "### User Defined Functions (UDF)\n",
    "custom-transformation with python"
   ]
  },
  {
   "cell_type": "code",
   "execution_count": 0,
   "metadata": {
    "application/vnd.databricks.v1+cell": {
     "cellMetadata": {
      "byteLimit": 2048000,
      "rowLimit": 10000
     },
     "inputWidgets": {},
     "nuid": "b391464f-ef92-44ab-af9f-b74813f63422",
     "showTitle": false,
     "tableResultSettingsMap": {},
     "title": ""
    }
   },
   "outputs": [],
   "source": [
    "def my_func(x):\n",
    "  return x*x"
   ]
  },
  {
   "cell_type": "code",
   "execution_count": 0,
   "metadata": {
    "application/vnd.databricks.v1+cell": {
     "cellMetadata": {
      "byteLimit": 2048000,
      "rowLimit": 10000
     },
     "inputWidgets": {},
     "nuid": "fb9b6d7e-354b-4bf5-9115-c821cc608ff7",
     "showTitle": false,
     "tableResultSettingsMap": {},
     "title": ""
    }
   },
   "outputs": [],
   "source": [
    "my_udf = udf(my_func)"
   ]
  },
  {
   "cell_type": "code",
   "execution_count": 0,
   "metadata": {
    "application/vnd.databricks.v1+cell": {
     "cellMetadata": {
      "byteLimit": 2048000,
      "rowLimit": 10000
     },
     "inputWidgets": {},
     "nuid": "37bd6e96-a30c-4588-bd71-a5c8bd61bab0",
     "showTitle": false,
     "tableResultSettingsMap": {},
     "title": ""
    }
   },
   "outputs": [],
   "source": [
    "orders_df.withColumn('Round Amount', my_udf('order_amount')).display()"
   ]
  },
  {
   "cell_type": "code",
   "execution_count": 0,
   "metadata": {
    "application/vnd.databricks.v1+cell": {
     "cellMetadata": {
      "byteLimit": 2048000,
      "rowLimit": 10000
     },
     "inputWidgets": {},
     "nuid": "6b58e6c0-5f19-4d40-a60b-b145db794433",
     "showTitle": false,
     "tableResultSettingsMap": {},
     "title": ""
    }
   },
   "outputs": [],
   "source": [
    "# test"
   ]
  },
  {
   "cell_type": "code",
   "execution_count": 0,
   "metadata": {
    "application/vnd.databricks.v1+cell": {
     "cellMetadata": {},
     "inputWidgets": {},
     "nuid": "d44c77f7-1da6-487a-9ed2-f2302fd0664a",
     "showTitle": false,
     "tableResultSettingsMap": {},
     "title": ""
    }
   },
   "outputs": [],
   "source": []
  }
 ],
 "metadata": {
  "application/vnd.databricks.v1+notebook": {
   "dashboards": [],
   "environmentMetadata": {
    "base_environment": "",
    "client": "1"
   },
   "language": "python",
   "notebookMetadata": {
    "pythonIndentUnit": 4
   },
   "notebookName": "Tutorial_1",
   "widgets": {}
  }
 },
 "nbformat": 4,
 "nbformat_minor": 0
}
